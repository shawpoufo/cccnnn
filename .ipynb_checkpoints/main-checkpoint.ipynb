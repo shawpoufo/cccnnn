{
 "cells": [
  {
   "cell_type": "code",
   "execution_count": null,
   "id": "b29cf37f",
   "metadata": {},
   "outputs": [
    {
     "name": "stderr",
     "output_type": "stream",
     "text": [
      "2023-01-09 08:23:07.566710: I tensorflow/core/platform/cpu_feature_guard.cc:193] This TensorFlow binary is optimized with oneAPI Deep Neural Network Library (oneDNN) to use the following CPU instructions in performance-critical operations:  AVX2 FMA\n",
      "To enable them in other operations, rebuild TensorFlow with the appropriate compiler flags.\n",
      "2023-01-09 08:23:07.749416: W tensorflow/compiler/xla/stream_executor/platform/default/dso_loader.cc:64] Could not load dynamic library 'libcudart.so.11.0'; dlerror: libcudart.so.11.0: cannot open shared object file: No such file or directory; LD_LIBRARY_PATH: /home/mitah/.local/share/virtualenvs/AIControle-oGQ6uKds/lib/python3.9/site-packages/cv2/../../lib64:\n",
      "2023-01-09 08:23:07.749441: I tensorflow/compiler/xla/stream_executor/cuda/cudart_stub.cc:29] Ignore above cudart dlerror if you do not have a GPU set up on your machine.\n",
      "2023-01-09 08:23:08.768767: W tensorflow/compiler/xla/stream_executor/platform/default/dso_loader.cc:64] Could not load dynamic library 'libnvinfer.so.7'; dlerror: libnvinfer.so.7: cannot open shared object file: No such file or directory; LD_LIBRARY_PATH: /home/mitah/.local/share/virtualenvs/AIControle-oGQ6uKds/lib/python3.9/site-packages/cv2/../../lib64:\n",
      "2023-01-09 08:23:08.768862: W tensorflow/compiler/xla/stream_executor/platform/default/dso_loader.cc:64] Could not load dynamic library 'libnvinfer_plugin.so.7'; dlerror: libnvinfer_plugin.so.7: cannot open shared object file: No such file or directory; LD_LIBRARY_PATH: /home/mitah/.local/share/virtualenvs/AIControle-oGQ6uKds/lib/python3.9/site-packages/cv2/../../lib64:\n",
      "2023-01-09 08:23:08.768872: W tensorflow/compiler/tf2tensorrt/utils/py_utils.cc:38] TF-TRT Warning: Cannot dlopen some TensorRT libraries. If you would like to use Nvidia GPU with TensorRT, please make sure the missing libraries mentioned above are installed properly.\n"
     ]
    },
    {
     "name": "stdout",
     "output_type": "stream",
     "text": [
      " * Serving Flask app '__main__'\n",
      " * Debug mode: off\n"
     ]
    },
    {
     "name": "stderr",
     "output_type": "stream",
     "text": [
      "\u001b[31m\u001b[1mWARNING: This is a development server. Do not use it in a production deployment. Use a production WSGI server instead.\u001b[0m\n",
      " * Running on http://127.0.0.1:5000\n",
      "\u001b[33mPress CTRL+C to quit\u001b[0m\n",
      "127.0.0.1 - - [09/Jan/2023 08:23:17] \"GET / HTTP/1.1\" 200 -\n",
      "[2023-01-09 08:23:22,576] ERROR in app: Exception on / [POST]\n",
      "Traceback (most recent call last):\n",
      "  File \"/home/mitah/.local/share/virtualenvs/AIControle-oGQ6uKds/lib/python3.9/site-packages/flask/app.py\", line 2525, in wsgi_app\n",
      "    response = self.full_dispatch_request()\n",
      "  File \"/home/mitah/.local/share/virtualenvs/AIControle-oGQ6uKds/lib/python3.9/site-packages/flask/app.py\", line 1822, in full_dispatch_request\n",
      "    rv = self.handle_user_exception(e)\n",
      "  File \"/home/mitah/.local/share/virtualenvs/AIControle-oGQ6uKds/lib/python3.9/site-packages/flask/app.py\", line 1820, in full_dispatch_request\n",
      "    rv = self.dispatch_request()\n",
      "  File \"/home/mitah/.local/share/virtualenvs/AIControle-oGQ6uKds/lib/python3.9/site-packages/flask/app.py\", line 1796, in dispatch_request\n",
      "    return self.ensure_sync(self.view_functions[rule.endpoint])(**view_args)\n",
      "  File \"/tmp/ipykernel_15679/918639081.py\", line 29, in upload\n",
      "    acc = predict(img_filename)\n",
      "  File \"/tmp/ipykernel_15679/918639081.py\", line 37, in predict\n",
      "    model = load_model(os.path.join('static','Models','best_model.h5'))\n",
      "  File \"/home/mitah/.local/share/virtualenvs/AIControle-oGQ6uKds/lib/python3.9/site-packages/keras/utils/traceback_utils.py\", line 70, in error_handler\n",
      "    raise e.with_traceback(filtered_tb) from None\n",
      "  File \"/home/mitah/.local/share/virtualenvs/AIControle-oGQ6uKds/lib/python3.9/site-packages/keras/saving/legacy/save.py\", line 227, in load_model\n",
      "    raise IOError(\n",
      "OSError: No file or directory found at static/Models/best_model.h5\n",
      "127.0.0.1 - - [09/Jan/2023 08:23:22] \"\u001b[35m\u001b[1mPOST / HTTP/1.1\u001b[0m\" 500 -\n"
     ]
    }
   ],
   "source": [
    "import cv2\n",
    "from flask import Flask, render_template, request, jsonify\n",
    "from PIL import Image\n",
    "import os, io, sys\n",
    "import numpy as np\n",
    "from static.Models.RecyclableModel import create_model\n",
    "from tensorflow.keras.models import load_model\n",
    "import tensorflow as tf\n",
    "\n",
    "\n",
    "app = Flask(__name__)\n",
    "\n",
    "UPLOAD_FOLDER = os.path.join('static', 'uploads')\n",
    "\n",
    "\n",
    "@app.route('/', methods=['GET'])\n",
    "def index():\n",
    "    return render_template(\"index.html\")\n",
    "\n",
    "\n",
    "@app.route('/', methods=['POST'])\n",
    "def upload():\n",
    "    img = request.files['image']\n",
    "\n",
    "    img_filename = img.filename\n",
    "    img.save(os.path.join(UPLOAD_FOLDER, img_filename))\n",
    "\n",
    "\n",
    "    acc = predict(img_filename)\n",
    "    \n",
    "\n",
    "    return render_template(\"index.html\", imagePath=img_filename,accuracy=acc)\n",
    "\n",
    "\n",
    "def predict(img):\n",
    "    #model = create_model()\n",
    "    model = load_model(os.path.join('static','Models','model.h5'))\n",
    "    img = cv2.imread(UPLOAD_FOLDER+\"/\" + img)\n",
    "\n",
    "    resize = tf.image.resize(img, (150, 150))\n",
    "\n",
    "    return model.predict(np.expand_dims(resize/255, 0))\n",
    "\n",
    "\n",
    "if __name__ == '__main__':\n",
    "    app.run()"
   ]
  },
  {
   "cell_type": "code",
   "execution_count": null,
   "id": "c6f7d562",
   "metadata": {},
   "outputs": [],
   "source": [
    "os.path.join('static', 'uploads','h.h')"
   ]
  },
  {
   "cell_type": "code",
   "execution_count": null,
   "id": "6b1cf5ed",
   "metadata": {},
   "outputs": [],
   "source": []
  }
 ],
 "metadata": {
  "kernelspec": {
   "display_name": "Python 3 (ipykernel)",
   "language": "python",
   "name": "python3"
  },
  "language_info": {
   "codemirror_mode": {
    "name": "ipython",
    "version": 3
   },
   "file_extension": ".py",
   "mimetype": "text/x-python",
   "name": "python",
   "nbconvert_exporter": "python",
   "pygments_lexer": "ipython3",
   "version": "3.9.7"
  }
 },
 "nbformat": 4,
 "nbformat_minor": 5
}
